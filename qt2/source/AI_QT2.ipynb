{
  "cells": [
    {
      "cell_type": "code",
      "execution_count": 1,
      "metadata": {
        "id": "zvIiL6pGIluu"
      },
      "outputs": [],
      "source": [
        "from pysat.solvers import Glucose3\n",
        "from itertools import combinations\n",
        "import numpy as np"
      ]
    },
    {
      "cell_type": "markdown",
      "metadata": {
        "id": "14czIIipWCoG"
      },
      "source": [
        "**HÀM CHUYỂN ĐỔI**"
      ]
    },
    {
      "cell_type": "code",
      "execution_count": 2,
      "metadata": {
        "id": "cLXKyedHa-b_"
      },
      "outputs": [],
      "source": [
        "def to_var(i, j,m):\n",
        "    return i * m + j + 1"
      ]
    },
    {
      "attachments": {},
      "cell_type": "markdown",
      "metadata": {},
      "source": [
        "TÌM CÁC LÂN CẬN"
      ]
    },
    {
      "cell_type": "code",
      "execution_count": 3,
      "metadata": {
        "id": "FabxzoUYIGNf"
      },
      "outputs": [],
      "source": [
        "def get_neighbors(i, j, n, m):\n",
        "    neighbors = []\n",
        "    for x in range(i-1, i+2):\n",
        "        for y in range(j-1, j+2):\n",
        "            if x < 0 or x >= n or y < 0 or y >= m:\n",
        "                continue\n",
        "            neighbors.append(to_var(x,y,m))\n",
        "    return neighbors"
      ]
    },
    {
      "attachments": {},
      "cell_type": "markdown",
      "metadata": {},
      "source": [
        "Hàm để phát sinh các mệnh đề CNF"
      ]
    },
    {
      "cell_type": "code",
      "execution_count": 4,
      "metadata": {
        "id": "lv2vTiyMcjZh"
      },
      "outputs": [],
      "source": [
        "def generate_clauses(n, m, matrix):\n",
        "    clauses = []\n",
        "    for i in range(n):\n",
        "        for j in range(m):\n",
        "            # Ràng buộc một ô phải được tô màu đỏ hoặc xanh\n",
        "            clauses.append([to_var(i,j,m),-(to_var(i, j,m))])\n",
        "            # Ràng buộc để các ô lân cận ô 0 phải là màu đỏ\n",
        "            if(isinstance(matrix[i][j],int) and matrix[i][j]==0):\n",
        "                neighbors=get_neighbors(i,j,n,m)\n",
        "                for neighbor in neighbors:\n",
        "                     clauses.append([-neighbor])\n",
        "            # Ràng buộc để các ô lân cận ô >0 phải có số ô lân cận màu xanh bằng giá trị tại ô đó\n",
        "            if isinstance(matrix[i][j], int) and matrix[i][j]>0:\n",
        "                neighbors = get_neighbors(i,j,n,m) \n",
        "                combo=list(combinations(neighbors, matrix[i][j]))\n",
        "                for a in combo:\n",
        "                    neighbor_copy=neighbors.copy()\n",
        "                    for x in a:\n",
        "                        neighbor_copy.remove(x)\n",
        "                    combo2=neighbor_copy  \n",
        "                    for x in a:\n",
        "                        clauses.append([int(h) for h in combo2+[x]])\n",
        "                    for y in combo2:\n",
        "                        temp=[-v for v in a]+[-y]\n",
        "                        clauses.append([int(g) for g in temp])\n",
        "    return clauses"
      ]
    },
    {
      "attachments": {},
      "cell_type": "markdown",
      "metadata": {},
      "source": [
        "GIẢI BÀI TOÁN"
      ]
    },
    {
      "cell_type": "code",
      "execution_count": 5,
      "metadata": {
        "id": "MP7XlOVhgqbV"
      },
      "outputs": [],
      "source": [
        "def to_color(x):\n",
        "    if x > 0:\n",
        "        return True # màu đỏ\n",
        "    else:\n",
        "        return False # màu xanh\n",
        "# Hàm để giải quyết bài toán bằng Glucose3\n",
        "def solve(n, m, matrix):\n",
        "    clauses = generate_clauses(n, m, matrix)\n",
        "    g = Glucose3()\n",
        "    \n",
        "    # Thêm các mệnh đề CNF vào Glucose3\n",
        "    for clause in clauses:\n",
        "        g.add_clause(clause)\n",
        "        \n",
        "    # Giải quyết bài toán và trả về kết quả\n",
        "    if g.solve():\n",
        "        model = g.get_model()\n",
        "        return [[to_color(model[i*m+j]) for j in range(m)] for i in range(n)]\n",
        "    else:\n",
        "        return None"
      ]
    },
    {
      "cell_type": "markdown",
      "metadata": {
        "id": "aTg-SpuHDMsN"
      },
      "source": [
        "**TEST**"
      ]
    },
    {
      "cell_type": "code",
      "execution_count": 6,
      "metadata": {
        "colab": {
          "base_uri": "https://localhost:8080/"
        },
        "id": "DjR__0nuJADT",
        "outputId": "2fa0b2e3-67d0-4117-f204-7c6ed5c59f45"
      },
      "outputs": [
        {
          "name": "stdout",
          "output_type": "stream",
          "text": [
            "\u001b[41m.\u001b[0m\u001b[42m2\u001b[0m\u001b[42m3\u001b[0m\u001b[41m.\u001b[0m\u001b[41m.\u001b[0m\u001b[41m0\u001b[0m\u001b[41m.\u001b[0m\u001b[41m.\u001b[0m\u001b[42m.\u001b[0m\u001b[42m.\u001b[0m\n",
            "\u001b[41m.\u001b[0m\u001b[41m.\u001b[0m\u001b[41m.\u001b[0m\u001b[42m.\u001b[0m\u001b[41m3\u001b[0m\u001b[41m.\u001b[0m\u001b[41m2\u001b[0m\u001b[42m.\u001b[0m\u001b[42m.\u001b[0m\u001b[42m6\u001b[0m\n",
            "\u001b[41m.\u001b[0m\u001b[41m.\u001b[0m\u001b[42m5\u001b[0m\u001b[42m.\u001b[0m\u001b[42m5\u001b[0m\u001b[41m3\u001b[0m\u001b[41m.\u001b[0m\u001b[42m5\u001b[0m\u001b[42m7\u001b[0m\u001b[42m4\u001b[0m\n",
            "\u001b[41m.\u001b[0m\u001b[42m4\u001b[0m\u001b[42m.\u001b[0m\u001b[41m5\u001b[0m\u001b[42m.\u001b[0m\u001b[42m5\u001b[0m\u001b[41m.\u001b[0m\u001b[42m6\u001b[0m\u001b[41m.\u001b[0m\u001b[41m3\u001b[0m\n",
            "\u001b[41m.\u001b[0m\u001b[42m.\u001b[0m\u001b[41m4\u001b[0m\u001b[41m.\u001b[0m\u001b[41m5\u001b[0m\u001b[42m.\u001b[0m\u001b[42m6\u001b[0m\u001b[42m.\u001b[0m\u001b[42m.\u001b[0m\u001b[41m3\u001b[0m\n",
            "\u001b[42m.\u001b[0m\u001b[42m.\u001b[0m\u001b[41m.\u001b[0m\u001b[41m2\u001b[0m\u001b[42m.\u001b[0m\u001b[42m5\u001b[0m\u001b[41m.\u001b[0m\u001b[41m.\u001b[0m\u001b[42m.\u001b[0m\u001b[42m.\u001b[0m\n",
            "\u001b[42m4\u001b[0m\u001b[41m.\u001b[0m\u001b[41m1\u001b[0m\u001b[41m.\u001b[0m\u001b[42m.\u001b[0m\u001b[41m.\u001b[0m\u001b[41m1\u001b[0m\u001b[41m1\u001b[0m\u001b[41m.\u001b[0m\u001b[42m.\u001b[0m\n",
            "\u001b[42m4\u001b[0m\u001b[41m.\u001b[0m\u001b[41m1\u001b[0m\u001b[41m.\u001b[0m\u001b[42m.\u001b[0m\u001b[41m.\u001b[0m\u001b[41m1\u001b[0m\u001b[41m.\u001b[0m\u001b[41m4\u001b[0m\u001b[42m.\u001b[0m\n",
            "\u001b[42m.\u001b[0m\u001b[42m.\u001b[0m\u001b[41m.\u001b[0m\u001b[41m.\u001b[0m\u001b[42m6\u001b[0m\u001b[42m.\u001b[0m\u001b[41m.\u001b[0m\u001b[41m.\u001b[0m\u001b[42m.\u001b[0m\u001b[42m4\u001b[0m\n",
            "\u001b[41m.\u001b[0m\u001b[42m4\u001b[0m\u001b[42m4\u001b[0m\u001b[42m.\u001b[0m\u001b[42m.\u001b[0m\u001b[42m.\u001b[0m\u001b[42m.\u001b[0m\u001b[42m4\u001b[0m\u001b[42m.\u001b[0m\u001b[41m.\u001b[0m\n"
          ]
        }
      ],
      "source": [
        "# Sử dụng ví dụ input.txt\n",
        "with open('input.txt', 'r') as f:\n",
        "    lines = f.readlines()\n",
        "    m ,n= lines[0].strip().split()\n",
        "    m=int(m)\n",
        "    n=int(n)\n",
        "    matrix = []\n",
        "    for i in range(1,len(lines)):\n",
        "        row = []\n",
        "        for c in lines[i].strip().split():\n",
        "            if c == '.':\n",
        "                row.append('.')\n",
        "            else:\n",
        "                row.append(int(c))\n",
        "        matrix.append(row)\n",
        "# Giải quyết bài toán và in ra kết quả\n",
        "result = solve(n, m, matrix)\n",
        "if result:\n",
        "    for x in range(0,len(result)):\n",
        "        for y in range(0,len(result)):\n",
        "            if(result[x][y]==True):\n",
        "                print('\\033[42m' + str(matrix[x][y]) + '\\033[0m', end='')\n",
        "            else:\n",
        "                print('\\033[41m' + str(matrix[x][y]) + '\\033[0m', end='')\n",
        "        print()\n",
        "else:\n",
        "    print(\"Không tìm thấy cách giải\")\n"
      ]
    }
  ],
  "metadata": {
    "colab": {
      "provenance": []
    },
    "kernelspec": {
      "display_name": "Python 3",
      "name": "python3"
    },
    "language_info": {
      "codemirror_mode": {
        "name": "ipython",
        "version": 3
      },
      "file_extension": ".py",
      "mimetype": "text/x-python",
      "name": "python",
      "nbconvert_exporter": "python",
      "pygments_lexer": "ipython3",
      "version": "3.11.3"
    }
  },
  "nbformat": 4,
  "nbformat_minor": 0
}
